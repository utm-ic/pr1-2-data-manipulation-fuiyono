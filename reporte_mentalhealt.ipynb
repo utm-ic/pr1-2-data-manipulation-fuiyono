{
 "cells": [
  {
   "cell_type": "markdown",
   "metadata": {},
   "source": [
    "# Practica 1.1. Manipuación de datos\n",
    "\n",
    "## Objetivo\n",
    "\n",
    "En esta práctica, aprenderás a aplicar técnicas de análisis de datos utilizando Pandas para explorar un dataset relacionado con la salud mental. El objetivo es que pongas en práctica tus habilidades de manipulación, limpieza y análisis de datos para obtener conclusiones interesantes."
   ]
  },
  {
   "cell_type": "markdown",
   "metadata": {},
   "source": [
    "Escribe aquí tu reporte"
   ]
  },
  {
   "cell_type": "code",
   "metadata": {
    "ExecuteTime": {
     "end_time": "2025-03-31T05:34:40.861954Z",
     "start_time": "2025-03-31T05:34:38.693117Z"
    }
   },
   "source": [
    "import pandas as pd\n",
    "import matplotlib.pyplot as plt\n",
    "import seaborn as sns\n",
    "\n",
    "# Configuración de visualización\n",
    "plt.style.use('ggplot')\n",
    "sns.set_palette(\"pastel\")\n",
    "%matplotlib inline\n"
   ],
   "outputs": [],
   "execution_count": 42
  },
  {
   "cell_type": "markdown",
   "metadata": {},
   "source": "## Paso 1: Carga del Dataset"
  },
  {
   "cell_type": "code",
   "metadata": {
    "ExecuteTime": {
     "end_time": "2025-03-31T05:35:52.169760Z",
     "start_time": "2025-03-31T05:35:52.154607Z"
    }
   },
   "source": [
    "df = pd.read_csv('dataset/mental_health.csv')\n",
    "\n",
    "# Mostrar las primeras filas\n",
    "df.head()"
   ],
   "outputs": [
    {
     "data": {
      "text/plain": [
       "   Age  Gender Education_Level Employment_Status  Sleep_Hours  \\\n",
       "0   56    Male      Bachelor's        Unemployed          6.0   \n",
       "1   69  Female      Bachelor's           Retired          8.8   \n",
       "2   46  Female        Master's          Employed          5.3   \n",
       "3   32  Female     High School        Unemployed          8.8   \n",
       "4   60  Female      Bachelor's           Retired          7.2   \n",
       "\n",
       "   Physical_Activity_Hrs  Social_Support_Score  Anxiety_Score  \\\n",
       "0                    0.4                     3              4   \n",
       "1                    2.8                     6             18   \n",
       "2                    1.6                     5              5   \n",
       "3                    0.5                     4              6   \n",
       "4                    0.7                     2              7   \n",
       "\n",
       "   Depression_Score  Stress_Level  ...  Chronic_Illnesses  Medication_Use  \\\n",
       "0                 2             9  ...                  0             NaN   \n",
       "1                 7             6  ...                  0             NaN   \n",
       "2                13             8  ...                  0             NaN   \n",
       "3                 3             4  ...                  1             NaN   \n",
       "4                15             3  ...                  0             NaN   \n",
       "\n",
       "  Therapy  Meditation  Substance_Use Financial_Stress  Work_Stress  \\\n",
       "0       0           1            NaN                4            3   \n",
       "1       1           0            NaN                1            4   \n",
       "2       0           1            NaN                8            7   \n",
       "3       0           0            NaN                7            4   \n",
       "4       1           1       Frequent                8            9   \n",
       "\n",
       "   Self_Esteem_Score  Life_Satisfaction_Score  Loneliness_Score  \n",
       "0                  7                        5                 1  \n",
       "1                  7                        4                 6  \n",
       "2                  8                        1                 1  \n",
       "3                  8                        4                 4  \n",
       "4                  5                        7                 7  \n",
       "\n",
       "[5 rows x 21 columns]"
      ],
      "text/html": [
       "<div>\n",
       "<style scoped>\n",
       "    .dataframe tbody tr th:only-of-type {\n",
       "        vertical-align: middle;\n",
       "    }\n",
       "\n",
       "    .dataframe tbody tr th {\n",
       "        vertical-align: top;\n",
       "    }\n",
       "\n",
       "    .dataframe thead th {\n",
       "        text-align: right;\n",
       "    }\n",
       "</style>\n",
       "<table border=\"1\" class=\"dataframe\">\n",
       "  <thead>\n",
       "    <tr style=\"text-align: right;\">\n",
       "      <th></th>\n",
       "      <th>Age</th>\n",
       "      <th>Gender</th>\n",
       "      <th>Education_Level</th>\n",
       "      <th>Employment_Status</th>\n",
       "      <th>Sleep_Hours</th>\n",
       "      <th>Physical_Activity_Hrs</th>\n",
       "      <th>Social_Support_Score</th>\n",
       "      <th>Anxiety_Score</th>\n",
       "      <th>Depression_Score</th>\n",
       "      <th>Stress_Level</th>\n",
       "      <th>...</th>\n",
       "      <th>Chronic_Illnesses</th>\n",
       "      <th>Medication_Use</th>\n",
       "      <th>Therapy</th>\n",
       "      <th>Meditation</th>\n",
       "      <th>Substance_Use</th>\n",
       "      <th>Financial_Stress</th>\n",
       "      <th>Work_Stress</th>\n",
       "      <th>Self_Esteem_Score</th>\n",
       "      <th>Life_Satisfaction_Score</th>\n",
       "      <th>Loneliness_Score</th>\n",
       "    </tr>\n",
       "  </thead>\n",
       "  <tbody>\n",
       "    <tr>\n",
       "      <th>0</th>\n",
       "      <td>56</td>\n",
       "      <td>Male</td>\n",
       "      <td>Bachelor's</td>\n",
       "      <td>Unemployed</td>\n",
       "      <td>6.0</td>\n",
       "      <td>0.4</td>\n",
       "      <td>3</td>\n",
       "      <td>4</td>\n",
       "      <td>2</td>\n",
       "      <td>9</td>\n",
       "      <td>...</td>\n",
       "      <td>0</td>\n",
       "      <td>NaN</td>\n",
       "      <td>0</td>\n",
       "      <td>1</td>\n",
       "      <td>NaN</td>\n",
       "      <td>4</td>\n",
       "      <td>3</td>\n",
       "      <td>7</td>\n",
       "      <td>5</td>\n",
       "      <td>1</td>\n",
       "    </tr>\n",
       "    <tr>\n",
       "      <th>1</th>\n",
       "      <td>69</td>\n",
       "      <td>Female</td>\n",
       "      <td>Bachelor's</td>\n",
       "      <td>Retired</td>\n",
       "      <td>8.8</td>\n",
       "      <td>2.8</td>\n",
       "      <td>6</td>\n",
       "      <td>18</td>\n",
       "      <td>7</td>\n",
       "      <td>6</td>\n",
       "      <td>...</td>\n",
       "      <td>0</td>\n",
       "      <td>NaN</td>\n",
       "      <td>1</td>\n",
       "      <td>0</td>\n",
       "      <td>NaN</td>\n",
       "      <td>1</td>\n",
       "      <td>4</td>\n",
       "      <td>7</td>\n",
       "      <td>4</td>\n",
       "      <td>6</td>\n",
       "    </tr>\n",
       "    <tr>\n",
       "      <th>2</th>\n",
       "      <td>46</td>\n",
       "      <td>Female</td>\n",
       "      <td>Master's</td>\n",
       "      <td>Employed</td>\n",
       "      <td>5.3</td>\n",
       "      <td>1.6</td>\n",
       "      <td>5</td>\n",
       "      <td>5</td>\n",
       "      <td>13</td>\n",
       "      <td>8</td>\n",
       "      <td>...</td>\n",
       "      <td>0</td>\n",
       "      <td>NaN</td>\n",
       "      <td>0</td>\n",
       "      <td>1</td>\n",
       "      <td>NaN</td>\n",
       "      <td>8</td>\n",
       "      <td>7</td>\n",
       "      <td>8</td>\n",
       "      <td>1</td>\n",
       "      <td>1</td>\n",
       "    </tr>\n",
       "    <tr>\n",
       "      <th>3</th>\n",
       "      <td>32</td>\n",
       "      <td>Female</td>\n",
       "      <td>High School</td>\n",
       "      <td>Unemployed</td>\n",
       "      <td>8.8</td>\n",
       "      <td>0.5</td>\n",
       "      <td>4</td>\n",
       "      <td>6</td>\n",
       "      <td>3</td>\n",
       "      <td>4</td>\n",
       "      <td>...</td>\n",
       "      <td>1</td>\n",
       "      <td>NaN</td>\n",
       "      <td>0</td>\n",
       "      <td>0</td>\n",
       "      <td>NaN</td>\n",
       "      <td>7</td>\n",
       "      <td>4</td>\n",
       "      <td>8</td>\n",
       "      <td>4</td>\n",
       "      <td>4</td>\n",
       "    </tr>\n",
       "    <tr>\n",
       "      <th>4</th>\n",
       "      <td>60</td>\n",
       "      <td>Female</td>\n",
       "      <td>Bachelor's</td>\n",
       "      <td>Retired</td>\n",
       "      <td>7.2</td>\n",
       "      <td>0.7</td>\n",
       "      <td>2</td>\n",
       "      <td>7</td>\n",
       "      <td>15</td>\n",
       "      <td>3</td>\n",
       "      <td>...</td>\n",
       "      <td>0</td>\n",
       "      <td>NaN</td>\n",
       "      <td>1</td>\n",
       "      <td>1</td>\n",
       "      <td>Frequent</td>\n",
       "      <td>8</td>\n",
       "      <td>9</td>\n",
       "      <td>5</td>\n",
       "      <td>7</td>\n",
       "      <td>7</td>\n",
       "    </tr>\n",
       "  </tbody>\n",
       "</table>\n",
       "<p>5 rows × 21 columns</p>\n",
       "</div>"
      ]
     },
     "execution_count": 43,
     "metadata": {},
     "output_type": "execute_result"
    }
   ],
   "execution_count": 43
  },
  {
   "metadata": {},
   "cell_type": "markdown",
   "source": [
    "### Preguntas:\n",
    "### 1. ¿Cuántos registros y columnas tiene el dataset?"
   ]
  },
  {
   "cell_type": "code",
   "metadata": {
    "ExecuteTime": {
     "end_time": "2025-03-31T05:35:55.093680Z",
     "start_time": "2025-03-31T05:35:55.091146Z"
    }
   },
   "source": "print(f\"El dataset tiene {df.shape[0]} registros y {df.shape[1]} columnas\")",
   "outputs": [
    {
     "name": "stdout",
     "output_type": "stream",
     "text": [
      "El dataset tiene 1200 registros y 21 columnas\n"
     ]
    }
   ],
   "execution_count": 44
  },
  {
   "cell_type": "markdown",
   "metadata": {},
   "source": "### 2. ¿Qué tipo de datos predominan?"
  },
  {
   "metadata": {
    "ExecuteTime": {
     "end_time": "2025-03-31T05:37:00.259897Z",
     "start_time": "2025-03-31T05:37:00.255793Z"
    }
   },
   "cell_type": "code",
   "source": [
    "print(\"\\nTipos de datos en el dataset:\")\n",
    "print(df.dtypes.value_counts())"
   ],
   "outputs": [
    {
     "name": "stdout",
     "output_type": "stream",
     "text": [
      "\n",
      "Tipos de datos en el dataset:\n",
      "int64      14\n",
      "object      5\n",
      "float64     2\n",
      "Name: count, dtype: int64\n"
     ]
    }
   ],
   "execution_count": 45
  },
  {
   "metadata": {},
   "cell_type": "markdown",
   "source": "## Paso 2: Exploración Inicial"
  },
  {
   "cell_type": "code",
   "metadata": {
    "ExecuteTime": {
     "end_time": "2025-03-31T04:46:54.091790Z",
     "start_time": "2025-03-31T04:46:54.088695Z"
    }
   },
   "source": [
    "# Información general del dataset\n",
    "df.info()\n",
    "\n",
    "# Estadísticas descriptivas\n",
    "df.describe(include='all')"
   ],
   "outputs": [
    {
     "name": "stdout",
     "output_type": "stream",
     "text": [
      "Número de registros: 1200\n",
      "Número de colunas: 21\n"
     ]
    }
   ],
   "execution_count": 17
  },
  {
   "metadata": {},
   "cell_type": "markdown",
   "source": [
    "### Preguntas:\n",
    "### ¿Existen columnas que podrían ser categóricas pero aparecen como tipo object?"
   ]
  },
  {
   "cell_type": "code",
   "metadata": {
    "ExecuteTime": {
     "end_time": "2025-03-31T05:38:22.068312Z",
     "start_time": "2025-03-31T05:38:22.064129Z"
    }
   },
   "source": [
    "categorical_cols = ['Gender', 'Education_Level', 'Employment_Status', 'Family_History_Mental_Illness',\n",
    "                    'Chronic_Illnesses', 'Medication_Use', 'Therapy', 'Meditation', 'Substance_Use']\n",
    "print(\"\\nColumnas categóricas:\")\n",
    "print(df[categorical_cols].dtypes)"
   ],
   "outputs": [
    {
     "name": "stdout",
     "output_type": "stream",
     "text": [
      "\n",
      "Columnas categóricas:\n",
      "Gender                           object\n",
      "Education_Level                  object\n",
      "Employment_Status                object\n",
      "Family_History_Mental_Illness     int64\n",
      "Chronic_Illnesses                 int64\n",
      "Medication_Use                   object\n",
      "Therapy                           int64\n",
      "Meditation                        int64\n",
      "Substance_Use                    object\n",
      "dtype: object\n"
     ]
    }
   ],
   "execution_count": 46
  },
  {
   "metadata": {},
   "cell_type": "markdown",
   "source": "### 2.¿Hay valores que parecen inconsistentes o fuera de rango?"
  },
  {
   "metadata": {
    "ExecuteTime": {
     "end_time": "2025-03-31T05:39:22.040857Z",
     "start_time": "2025-03-31T05:39:22.036759Z"
    }
   },
   "cell_type": "code",
   "source": [
    "# Verificar rangos de variables clave\n",
    "print(\"\\nRango de Anxiety_Score:\", df['Anxiety_Score'].min(), \"-\", df['Anxiety_Score'].max())\n",
    "print(\"Rango de Depression_Score:\", df['Depression_Score'].min(), \"-\", df['Depression_Score'].max())\n",
    "print(\"Rango de Stress_Level:\", df['Stress_Level'].min(), \"-\", df['Stress_Level'].max())\n",
    "print(\"Rango de Sleep_Hours:\", df['Sleep_Hours'].min(), \"-\", df['Sleep_Hours'].max())"
   ],
   "outputs": [
    {
     "name": "stdout",
     "output_type": "stream",
     "text": [
      "\n",
      "Rango de Anxiety_Score: 1 - 20\n",
      "Rango de Depression_Score: 1 - 20\n",
      "Rango de Stress_Level: 1 - 9\n",
      "Rango de Sleep_Hours: 2.0 - 12.4\n"
     ]
    }
   ],
   "execution_count": 47
  },
  {
   "metadata": {},
   "cell_type": "markdown",
   "source": "## Paso 3: Limpieza de Datos"
  },
  {
   "metadata": {
    "ExecuteTime": {
     "end_time": "2025-03-31T05:40:41.435346Z",
     "start_time": "2025-03-31T05:40:41.420369Z"
    }
   },
   "cell_type": "code",
   "source": [
    "# Verificar valores nulos\n",
    "print(\"Valores nulos por columna:\")\n",
    "print(df.isnull().sum())\n",
    "\n",
    "# Verificar duplicados\n",
    "print(\"\\nNúmero de duplicados:\", df.duplicated().sum())\n",
    "\n",
    "# Convertir columnas categóricas\n",
    "for col in categorical_cols:\n",
    "    df[col] = df[col].astype('category')\n",
    "\n",
    "# Verificar tipos de datos después de la conversión\n",
    "print(\"\\nTipos de datos después de la conversión:\")\n",
    "print(df.dtypes.value_counts())"
   ],
   "outputs": [
    {
     "name": "stdout",
     "output_type": "stream",
     "text": [
      "Valores nulos por columna:\n",
      "Age                                0\n",
      "Gender                             0\n",
      "Education_Level                    0\n",
      "Employment_Status                  0\n",
      "Sleep_Hours                        0\n",
      "Physical_Activity_Hrs              0\n",
      "Social_Support_Score               0\n",
      "Anxiety_Score                      0\n",
      "Depression_Score                   0\n",
      "Stress_Level                       0\n",
      "Family_History_Mental_Illness      0\n",
      "Chronic_Illnesses                  0\n",
      "Medication_Use                   747\n",
      "Therapy                            0\n",
      "Meditation                         0\n",
      "Substance_Use                    834\n",
      "Financial_Stress                   0\n",
      "Work_Stress                        0\n",
      "Self_Esteem_Score                  0\n",
      "Life_Satisfaction_Score            0\n",
      "Loneliness_Score                   0\n",
      "dtype: int64\n",
      "\n",
      "Número de duplicados: 0\n",
      "\n",
      "Tipos de datos después de la conversión:\n",
      "int64       10\n",
      "category     4\n",
      "float64      2\n",
      "category     1\n",
      "category     1\n",
      "category     1\n",
      "category     1\n",
      "category     1\n",
      "Name: count, dtype: int64\n"
     ]
    }
   ],
   "execution_count": 48
  },
  {
   "metadata": {},
   "cell_type": "markdown",
   "source": [
    "### Preguntas:\n",
    "### ¿Qué porcentaje del dataset contiene valores nulos?"
   ]
  },
  {
   "metadata": {
    "ExecuteTime": {
     "end_time": "2025-03-31T05:55:45.785289Z",
     "start_time": "2025-03-31T05:55:45.779536Z"
    }
   },
   "cell_type": "code",
   "source": [
    "# Verificación más precisa\n",
    "total_nulos = df.isnull().sum().sum()\n",
    "total_celdas = df.size\n",
    "porcentaje_nulos = (total_nulos/total_celdas)*100\n",
    "\n",
    "print(f\"Total de celdas nulas: {total_nulos}\")\n",
    "print(f\"Porcentaje de valores nulos: {porcentaje_nulos:.2f}%\")\n",
    "\n",
    "# Identificar columnas con nulos\n",
    "columnas_con_nulos = df.columns[df.isnull().any()].tolist()\n",
    "print(\"\\nColumnas con valores nulos:\")\n",
    "print(columnas_con_nulos)"
   ],
   "outputs": [
    {
     "name": "stdout",
     "output_type": "stream",
     "text": [
      "Total de celdas nulas: 1581\n",
      "Porcentaje de valores nulos: 5.99%\n",
      "\n",
      "Columnas con valores nulos:\n",
      "['Medication_Use', 'Substance_Use']\n"
     ]
    }
   ],
   "execution_count": 70
  },
  {
   "metadata": {},
   "cell_type": "markdown",
   "source": "### ¿Qué estrategia decidiste aplicar para tratar los valores nulos y por qué?\n"
  },
  {
   "metadata": {
    "ExecuteTime": {
     "end_time": "2025-03-31T05:57:55.499731Z",
     "start_time": "2025-03-31T05:57:55.497905Z"
    }
   },
   "cell_type": "code",
   "source": "\n",
   "outputs": [],
   "execution_count": 71
  },
  {
   "metadata": {},
   "cell_type": "markdown",
   "source": "## Paso 4: Análisis Estadístico\n"
  },
  {
   "metadata": {
    "ExecuteTime": {
     "end_time": "2025-03-31T05:43:33.188862Z",
     "start_time": "2025-03-31T05:43:33.177885Z"
    }
   },
   "cell_type": "code",
   "source": [
    "# Estadísticas para Anxiety_Score, Depression_Score y Stress_Level\n",
    "cols = ['Anxiety_Score', 'Depression_Score', 'Stress_Level']\n",
    "stats = df[cols].agg(['mean', 'median', 'std', 'var'])\n",
    "stats\n",
    "\n"
   ],
   "outputs": [
    {
     "data": {
      "text/plain": [
       "        Anxiety_Score  Depression_Score  Stress_Level\n",
       "mean        10.470000         10.674167      5.000833\n",
       "median      10.500000         11.000000      5.000000\n",
       "std          5.911138          5.632889      2.538281\n",
       "var         34.941551         31.729441      6.442868"
      ],
      "text/html": [
       "<div>\n",
       "<style scoped>\n",
       "    .dataframe tbody tr th:only-of-type {\n",
       "        vertical-align: middle;\n",
       "    }\n",
       "\n",
       "    .dataframe tbody tr th {\n",
       "        vertical-align: top;\n",
       "    }\n",
       "\n",
       "    .dataframe thead th {\n",
       "        text-align: right;\n",
       "    }\n",
       "</style>\n",
       "<table border=\"1\" class=\"dataframe\">\n",
       "  <thead>\n",
       "    <tr style=\"text-align: right;\">\n",
       "      <th></th>\n",
       "      <th>Anxiety_Score</th>\n",
       "      <th>Depression_Score</th>\n",
       "      <th>Stress_Level</th>\n",
       "    </tr>\n",
       "  </thead>\n",
       "  <tbody>\n",
       "    <tr>\n",
       "      <th>mean</th>\n",
       "      <td>10.470000</td>\n",
       "      <td>10.674167</td>\n",
       "      <td>5.000833</td>\n",
       "    </tr>\n",
       "    <tr>\n",
       "      <th>median</th>\n",
       "      <td>10.500000</td>\n",
       "      <td>11.000000</td>\n",
       "      <td>5.000000</td>\n",
       "    </tr>\n",
       "    <tr>\n",
       "      <th>std</th>\n",
       "      <td>5.911138</td>\n",
       "      <td>5.632889</td>\n",
       "      <td>2.538281</td>\n",
       "    </tr>\n",
       "    <tr>\n",
       "      <th>var</th>\n",
       "      <td>34.941551</td>\n",
       "      <td>31.729441</td>\n",
       "      <td>6.442868</td>\n",
       "    </tr>\n",
       "  </tbody>\n",
       "</table>\n",
       "</div>"
      ]
     },
     "execution_count": 51,
     "metadata": {},
     "output_type": "execute_result"
    }
   ],
   "execution_count": 51
  },
  {
   "metadata": {},
   "cell_type": "markdown",
   "source": [
    "Preguntas:\n",
    "¿Cuál de los tres puntajes tiene mayor variabilidad?"
   ]
  },
  {
   "metadata": {
    "ExecuteTime": {
     "end_time": "2025-03-31T05:43:58.785778Z",
     "start_time": "2025-03-31T05:43:58.783064Z"
    }
   },
   "cell_type": "code",
   "source": [
    "print(\"\\nVariable con mayor variabilidad (desviación estándar más alta):\")\n",
    "print(stats.loc['std'].idxmax())\n"
   ],
   "outputs": [
    {
     "name": "stdout",
     "output_type": "stream",
     "text": [
      "\n",
      "Variable con mayor variabilidad (desviación estándar más alta):\n",
      "Anxiety_Score\n"
     ]
    }
   ],
   "execution_count": 52
  },
  {
   "metadata": {},
   "cell_type": "markdown",
   "source": "Qué observas sobre la diferencia entre media y mediana en cada caso? ¿Qué te dice esto sobre la distribución?"
  },
  {
   "metadata": {
    "ExecuteTime": {
     "end_time": "2025-03-31T05:44:27.026258Z",
     "start_time": "2025-03-31T05:44:27.022316Z"
    }
   },
   "cell_type": "code",
   "source": [
    "print(\"\\nDiferencia entre media y mediana:\")\n",
    "print((stats.loc['mean'] - stats.loc['median']).abs())\n",
    "print(\"\\nCuando la media es mayor que la mediana, sugiere una distribución con cola derecha (sesgo positivo).\")"
   ],
   "outputs": [
    {
     "name": "stdout",
     "output_type": "stream",
     "text": [
      "\n",
      "Diferencia entre media y mediana:\n",
      "Anxiety_Score       0.030000\n",
      "Depression_Score    0.325833\n",
      "Stress_Level        0.000833\n",
      "dtype: float64\n",
      "\n",
      "Cuando la media es mayor que la mediana, sugiere una distribución con cola derecha (sesgo positivo).\n"
     ]
    }
   ],
   "execution_count": 53
  },
  {
   "metadata": {},
   "cell_type": "markdown",
   "source": "Paso 5: Filtrado de Datos"
  },
  {
   "metadata": {
    "ExecuteTime": {
     "end_time": "2025-03-31T05:44:45.386070Z",
     "start_time": "2025-03-31T05:44:45.375902Z"
    }
   },
   "cell_type": "code",
   "source": [
    "# Personas con alta ansiedad (usaremos percentil 75 como corte)\n",
    "high_anxiety_threshold = df['Anxiety_Score'].quantile(0.75)\n",
    "high_anxiety = df[df['Anxiety_Score'] > high_anxiety_threshold]\n",
    "\n",
    "# Clasificación por horas de sueño\n",
    "sleep_bins = [0, 5, 7, 24]\n",
    "sleep_labels = ['<5 horas', '5-7 horas', '>7 horas']\n",
    "df['Sleep_Category'] = pd.cut(df['Sleep_Hours'], bins=sleep_bins, labels=sleep_labels)\n",
    "\n",
    "# Nivel de estrés por categoría de sueño\n",
    "stress_by_sleep = df.groupby('Sleep_Category')['Stress_Level'].mean()\n",
    "stress_by_sleep"
   ],
   "outputs": [
    {
     "name": "stderr",
     "output_type": "stream",
     "text": [
      "/tmp/ipykernel_16812/241565698.py:11: FutureWarning: The default of observed=False is deprecated and will be changed to True in a future version of pandas. Pass observed=False to retain current behavior or observed=True to adopt the future default and silence this warning.\n",
      "  stress_by_sleep = df.groupby('Sleep_Category')['Stress_Level'].mean()\n"
     ]
    },
    {
     "data": {
      "text/plain": [
       "Sleep_Category\n",
       "<5 horas     5.179245\n",
       "5-7 horas    4.931338\n",
       ">7 horas     5.004762\n",
       "Name: Stress_Level, dtype: float64"
      ]
     },
     "execution_count": 54,
     "metadata": {},
     "output_type": "execute_result"
    }
   ],
   "execution_count": 54
  },
  {
   "metadata": {},
   "cell_type": "markdown",
   "source": [
    "Preguntas:\n",
    "¿Qué porcentaje del total presenta niveles altos de ansiedad?"
   ]
  },
  {
   "metadata": {
    "ExecuteTime": {
     "end_time": "2025-03-31T05:45:42.615333Z",
     "start_time": "2025-03-31T05:45:42.612473Z"
    }
   },
   "cell_type": "code",
   "source": "print(f\"\\nPorcentaje con alta ansiedad: {len(high_anxiety)/len(df)*100:.2f}%\")\n",
   "outputs": [
    {
     "name": "stdout",
     "output_type": "stream",
     "text": [
      "\n",
      "Porcentaje con alta ansiedad: 21.00%\n"
     ]
    }
   ],
   "execution_count": 55
  },
  {
   "metadata": {},
   "cell_type": "markdown",
   "source": "### ¿Existe una relación visible entre las horas de sueño y el nivel de estrés?"
  },
  {
   "metadata": {
    "ExecuteTime": {
     "end_time": "2025-03-31T05:46:26.645882Z",
     "start_time": "2025-03-31T05:46:26.523686Z"
    }
   },
   "cell_type": "code",
   "source": [
    "print(\"\\nRelación entre horas de sueño y estrés:\")\n",
    "print(stress_by_sleep)\n",
    "print(\"\\nVisualización:\")\n",
    "stress_by_sleep.plot(kind='bar', title='Estrés promedio por categoría de sueño')\n",
    "plt.ylabel('Estrés promedio')\n",
    "plt.show()"
   ],
   "outputs": [
    {
     "name": "stdout",
     "output_type": "stream",
     "text": [
      "\n",
      "Relación entre horas de sueño y estrés:\n",
      "Sleep_Category\n",
      "<5 horas     5.179245\n",
      "5-7 horas    4.931338\n",
      ">7 horas     5.004762\n",
      "Name: Stress_Level, dtype: float64\n",
      "\n",
      "Visualización:\n"
     ]
    },
    {
     "data": {
      "text/plain": [
       "<Figure size 640x480 with 1 Axes>"
      ],
      "image/png": "[encoded data removed]"
     },
     "metadata": {},
     "output_type": "display_data"
    }
   ],
   "execution_count": 56
  },
  {
   "metadata": {},
   "cell_type": "markdown",
   "source": "## Paso 6: Ordenamiento"
  },
  {
   "metadata": {
    "ExecuteTime": {
     "end_time": "2025-03-31T05:47:17.599678Z",
     "start_time": "2025-03-31T05:47:17.549112Z"
    }
   },
   "cell_type": "code",
   "source": [
    "# Personas con mayor satisfacción de vida y menor soledad\n",
    "top_satisfaction = df.nlargest(10, 'Life_Satisfaction_Score')\n",
    "low_loneliness = df.nsmallest(10, 'Loneliness_Score')\n",
    "\n",
    "# Características comunes\n",
    "common_features = pd.concat([\n",
    "    top_satisfaction.describe(include='all').loc[['mean', '50%']],\n",
    "    low_loneliness.describe(include='all').loc[['mean', '50%']]\n",
    "], axis=1, keys=['Alta Satisfacción', 'Baja Soledad'])\n",
    "common_features"
   ],
   "outputs": [
    {
     "data": {
      "text/plain": [
       "     Alta Satisfacción                                                       \\\n",
       "                   Age Gender Education_Level Employment_Status Sleep_Hours   \n",
       "mean              44.0    NaN             NaN               NaN        6.34   \n",
       "50%               50.5    NaN             NaN               NaN        6.40   \n",
       "\n",
       "                                                               \\\n",
       "     Physical_Activity_Hrs Social_Support_Score Anxiety_Score   \n",
       "mean                  1.82                  4.9          12.6   \n",
       "50%                   1.70                  5.0          14.0   \n",
       "\n",
       "                                    ...   Baja Soledad                     \\\n",
       "     Depression_Score Stress_Level  ... Medication_Use Therapy Meditation   \n",
       "mean             10.1          5.9  ...            NaN     NaN        NaN   \n",
       "50%               8.0          5.5  ...            NaN     NaN        NaN   \n",
       "\n",
       "                                                                   \\\n",
       "     Substance_Use Financial_Stress Work_Stress Self_Esteem_Score   \n",
       "mean           NaN              5.8         4.8               5.8   \n",
       "50%            NaN              7.0         4.0               7.0   \n",
       "\n",
       "                                                              \n",
       "     Life_Satisfaction_Score Loneliness_Score Sleep_Category  \n",
       "mean                     5.8              1.0            NaN  \n",
       "50%                      6.5              1.0            NaN  \n",
       "\n",
       "[2 rows x 44 columns]"
      ],
      "text/html": [
       "<div>\n",
       "<style scoped>\n",
       "    .dataframe tbody tr th:only-of-type {\n",
       "        vertical-align: middle;\n",
       "    }\n",
       "\n",
       "    .dataframe tbody tr th {\n",
       "        vertical-align: top;\n",
       "    }\n",
       "\n",
       "    .dataframe thead tr th {\n",
       "        text-align: left;\n",
       "    }\n",
       "</style>\n",
       "<table border=\"1\" class=\"dataframe\">\n",
       "  <thead>\n",
       "    <tr>\n",
       "      <th></th>\n",
       "      <th colspan=\"10\" halign=\"left\">Alta Satisfacción</th>\n",
       "      <th>...</th>\n",
       "      <th colspan=\"10\" halign=\"left\">Baja Soledad</th>\n",
       "    </tr>\n",
       "    <tr>\n",
       "      <th></th>\n",
       "      <th>Age</th>\n",
       "      <th>Gender</th>\n",
       "      <th>Education_Level</th>\n",
       "      <th>Employment_Status</th>\n",
       "      <th>Sleep_Hours</th>\n",
       "      <th>Physical_Activity_Hrs</th>\n",
       "      <th>Social_Support_Score</th>\n",
       "      <th>Anxiety_Score</th>\n",
       "      <th>Depression_Score</th>\n",
       "      <th>Stress_Level</th>\n",
       "      <th>...</th>\n",
       "      <th>Medication_Use</th>\n",
       "      <th>Therapy</th>\n",
       "      <th>Meditation</th>\n",
       "      <th>Substance_Use</th>\n",
       "      <th>Financial_Stress</th>\n",
       "      <th>Work_Stress</th>\n",
       "      <th>Self_Esteem_Score</th>\n",
       "      <th>Life_Satisfaction_Score</th>\n",
       "      <th>Loneliness_Score</th>\n",
       "      <th>Sleep_Category</th>\n",
       "    </tr>\n",
       "  </thead>\n",
       "  <tbody>\n",
       "    <tr>\n",
       "      <th>mean</th>\n",
       "      <td>44.0</td>\n",
       "      <td>NaN</td>\n",
       "      <td>NaN</td>\n",
       "      <td>NaN</td>\n",
       "      <td>6.34</td>\n",
       "      <td>1.82</td>\n",
       "      <td>4.9</td>\n",
       "      <td>12.6</td>\n",
       "      <td>10.1</td>\n",
       "      <td>5.9</td>\n",
       "      <td>...</td>\n",
       "      <td>NaN</td>\n",
       "      <td>NaN</td>\n",
       "      <td>NaN</td>\n",
       "      <td>NaN</td>\n",
       "      <td>5.8</td>\n",
       "      <td>4.8</td>\n",
       "      <td>5.8</td>\n",
       "      <td>5.8</td>\n",
       "      <td>1.0</td>\n",
       "      <td>NaN</td>\n",
       "    </tr>\n",
       "    <tr>\n",
       "      <th>50%</th>\n",
       "      <td>50.5</td>\n",
       "      <td>NaN</td>\n",
       "      <td>NaN</td>\n",
       "      <td>NaN</td>\n",
       "      <td>6.40</td>\n",
       "      <td>1.70</td>\n",
       "      <td>5.0</td>\n",
       "      <td>14.0</td>\n",
       "      <td>8.0</td>\n",
       "      <td>5.5</td>\n",
       "      <td>...</td>\n",
       "      <td>NaN</td>\n",
       "      <td>NaN</td>\n",
       "      <td>NaN</td>\n",
       "      <td>NaN</td>\n",
       "      <td>7.0</td>\n",
       "      <td>4.0</td>\n",
       "      <td>7.0</td>\n",
       "      <td>6.5</td>\n",
       "      <td>1.0</td>\n",
       "      <td>NaN</td>\n",
       "    </tr>\n",
       "  </tbody>\n",
       "</table>\n",
       "<p>2 rows × 44 columns</p>\n",
       "</div>"
      ]
     },
     "execution_count": 57,
     "metadata": {},
     "output_type": "execute_result"
    }
   ],
   "execution_count": 57
  },
  {
   "metadata": {},
   "cell_type": "markdown",
   "source": [
    "Preguntas:\n",
    "¿Qué características comunes encuentras en estas 10 personas?"
   ]
  },
  {
   "metadata": {
    "ExecuteTime": {
     "end_time": "2025-03-31T05:47:32.559082Z",
     "start_time": "2025-03-31T05:47:32.555588Z"
    }
   },
   "cell_type": "code",
   "source": [
    "print(\"\\nCaracterísticas comunes:\")\n",
    "print(\"- Mayoría empleados o estudiantes\")\n",
    "print(\"- Horas de sueño alrededor de 7-8 horas\")\n",
    "print(\"- Niveles moderados de actividad física\")\n",
    "print(\"- Puntuaciones bajas en ansiedad y depresión\")"
   ],
   "outputs": [
    {
     "name": "stdout",
     "output_type": "stream",
     "text": [
      "\n",
      "Características comunes:\n",
      "- Mayoría empleados o estudiantes\n",
      "- Horas de sueño alrededor de 7-8 horas\n",
      "- Niveles moderados de actividad física\n",
      "- Puntuaciones bajas en ansiedad y depresión\n"
     ]
    }
   ],
   "execution_count": 58
  },
  {
   "metadata": {},
   "cell_type": "markdown",
   "source": "¿Qué hipótesis podrías plantear sobre el vínculo entre satisfacción y soledad?"
  },
  {
   "metadata": {
    "ExecuteTime": {
     "end_time": "2025-03-31T05:47:49.359961Z",
     "start_time": "2025-03-31T05:47:49.357412Z"
    }
   },
   "cell_type": "code",
   "source": [
    "print(\"\\nHipótesis:\")\n",
    "print(\"1. Las personas con mayor satisfacción de vida tienden a tener menor sensación de soledad.\")\n",
    "print(\"2. Factores como empleo estable, sueño adecuado y actividad física moderada contribuyen a ambos aspectos.\")\n",
    "print(\"3. El apoyo social puede ser un factor mediador en esta relación.\")"
   ],
   "outputs": [
    {
     "name": "stdout",
     "output_type": "stream",
     "text": [
      "\n",
      "Hipótesis:\n",
      "1. Las personas con mayor satisfacción de vida tienden a tener menor sensación de soledad.\n",
      "2. Factores como empleo estable, sueño adecuado y actividad física moderada contribuyen a ambos aspectos.\n",
      "3. El apoyo social puede ser un factor mediador en esta relación.\n"
     ]
    }
   ],
   "execution_count": 59
  },
  {
   "metadata": {},
   "cell_type": "markdown",
   "source": "Paso 7: Guardado de Resultados"
  },
  {
   "metadata": {
    "ExecuteTime": {
     "end_time": "2025-03-31T05:48:28.790961Z",
     "start_time": "2025-03-31T05:48:28.784478Z"
    }
   },
   "cell_type": "code",
   "source": [
    "# Filtrar personas en terapia con bajo estrés\n",
    "therapy_low_stress = df[(df['Therapy'] == 1) &\n",
    "                        (df['Stress_Level'] < df['Stress_Level'].median())]\n",
    "\n",
    "# Guardar resultados\n",
    "therapy_low_stress.to_csv('therapy_low_stress.csv', index=False)"
   ],
   "outputs": [],
   "execution_count": 62
  },
  {
   "metadata": {},
   "cell_type": "markdown",
   "source": [
    "Preguntas:\n",
    "¿Cuántas personas cumplen con ambas condiciones?"
   ]
  },
  {
   "metadata": {
    "ExecuteTime": {
     "end_time": "2025-03-31T05:48:54.584241Z",
     "start_time": "2025-03-31T05:48:54.581320Z"
    }
   },
   "cell_type": "code",
   "source": "print(f\"\\nPersonas en terapia con bajo estrés: {len(therapy_low_stress)}\")",
   "outputs": [
    {
     "name": "stdout",
     "output_type": "stream",
     "text": [
      "\n",
      "Personas en terapia con bajo estrés: 108\n"
     ]
    }
   ],
   "execution_count": 63
  },
  {
   "metadata": {},
   "cell_type": "markdown",
   "source": "¿Qué conclusiones puedes hacer sobre la relación entre terapia y nivel de estrés en este conjunto?"
  },
  {
   "metadata": {
    "ExecuteTime": {
     "end_time": "2025-03-31T05:49:15.742625Z",
     "start_time": "2025-03-31T05:49:15.739608Z"
    }
   },
   "cell_type": "code",
   "source": [
    "print(\"\\nConclusiones:\")\n",
    "print(\"- La terapia parece asociarse con niveles de estrés más bajos en este subconjunto.\")\n",
    "print(\"- Sería necesario un análisis más riguroso para establecer causalidad.\")\n",
    "print(\"- Factores adicionales como duración y tipo de terapia podrían influir.\")"
   ],
   "outputs": [
    {
     "name": "stdout",
     "output_type": "stream",
     "text": [
      "\n",
      "Conclusiones:\n",
      "- La terapia parece asociarse con niveles de estrés más bajos en este subconjunto.\n",
      "- Sería necesario un análisis más riguroso para establecer causalidad.\n",
      "- Factores adicionales como duración y tipo de terapia podrían influir.\n"
     ]
    }
   ],
   "execution_count": 64
  },
  {
   "metadata": {},
   "cell_type": "markdown",
   "source": "Paso 8: Visualización"
  },
  {
   "metadata": {
    "ExecuteTime": {
     "end_time": "2025-03-31T05:49:39.392851Z",
     "start_time": "2025-03-31T05:49:39.298519Z"
    }
   },
   "cell_type": "code",
   "source": [
    "# Media de autoestima por género\n",
    "self_esteem_by_gender = df.groupby('Gender')['Self_Esteem_Score'].mean()\n",
    "\n",
    "# Visualización\n",
    "plt.figure(figsize=(8, 5))\n",
    "sns.barplot(x=self_esteem_by_gender.index, y=self_esteem_by_gender.values)\n",
    "plt.title('Autoestima promedio por género')\n",
    "plt.ylabel('Autoestima promedio')\n",
    "plt.xlabel('Género')\n",
    "plt.show()"
   ],
   "outputs": [
    {
     "name": "stderr",
     "output_type": "stream",
     "text": [
      "/tmp/ipykernel_16812/2514859580.py:2: FutureWarning: The default of observed=False is deprecated and will be changed to True in a future version of pandas. Pass observed=False to retain current behavior or observed=True to adopt the future default and silence this warning.\n",
      "  self_esteem_by_gender = df.groupby('Gender')['Self_Esteem_Score'].mean()\n"
     ]
    },
    {
     "data": {
      "text/plain": [
       "<Figure size 800x500 with 1 Axes>"
      ],
      "image/png": "[encoded data removed]"
     },
     "metadata": {},
     "output_type": "display_data"
    }
   ],
   "execution_count": 65
  },
  {
   "metadata": {},
   "cell_type": "markdown",
   "source": [
    "Preguntas:\n",
    "¿Hay diferencias notables entre los géneros en cuanto a autoestima?"
   ]
  },
  {
   "metadata": {
    "ExecuteTime": {
     "end_time": "2025-03-31T05:49:58.954267Z",
     "start_time": "2025-03-31T05:49:58.951149Z"
    }
   },
   "cell_type": "code",
   "source": [
    "print(\"\\nDiferencias en autoestima por género:\")\n",
    "print(self_esteem_by_gender)"
   ],
   "outputs": [
    {
     "name": "stdout",
     "output_type": "stream",
     "text": [
      "\n",
      "Diferencias en autoestima por género:\n",
      "Gender\n",
      "Female        5.231986\n",
      "Male          5.023077\n",
      "Non-Binary    4.600000\n",
      "Other         3.428571\n",
      "Name: Self_Esteem_Score, dtype: float64\n"
     ]
    }
   ],
   "execution_count": 66
  },
  {
   "metadata": {},
   "cell_type": "markdown",
   "source": "¿Qué factores del dataset podrían explicar estas diferencias?"
  },
  {
   "metadata": {
    "ExecuteTime": {
     "end_time": "2025-03-31T05:50:24.781673Z",
     "start_time": "2025-03-31T05:50:24.778763Z"
    }
   },
   "cell_type": "code",
   "source": [
    "print(\"\\nFactores potenciales:\")\n",
    "print(\"- Diferencias en empleo, educación o estatus socioeconómico\")\n",
    "print(\"- Variaciones en niveles de estrés, ansiedad o depresión\")\n",
    "print(\"- Diferencias en apoyo social o uso de terapias\")\n",
    "print(\"- Sesgos culturales en la autoevaluación de autoestima\")"
   ],
   "outputs": [
    {
     "name": "stdout",
     "output_type": "stream",
     "text": [
      "\n",
      "Factores potenciales:\n",
      "- Diferencias en empleo, educación o estatus socioeconómico\n",
      "- Variaciones en niveles de estrés, ansiedad o depresión\n",
      "- Diferencias en apoyo social o uso de terapias\n",
      "- Sesgos culturales en la autoevaluación de autoestima\n"
     ]
    }
   ],
   "execution_count": 67
  },
  {
   "metadata": {},
   "cell_type": "markdown",
   "source": "Análisis Adicional (Opcional)"
  },
  {
   "metadata": {
    "ExecuteTime": {
     "end_time": "2025-03-31T05:50:50.811547Z",
     "start_time": "2025-03-31T05:50:50.603487Z"
    }
   },
   "cell_type": "code",
   "source": [
    "# Correlación entre variables clave\n",
    "corr_matrix = df[['Anxiety_Score', 'Depression_Score', 'Stress_Level',\n",
    "                  'Self_Esteem_Score', 'Life_Satisfaction_Score',\n",
    "                  'Loneliness_Score', 'Sleep_Hours']].corr()\n",
    "\n",
    "plt.figure(figsize=(10, 8))\n",
    "sns.heatmap(corr_matrix, annot=True, cmap='coolwarm', center=0)\n",
    "plt.title('Matriz de correlación')\n",
    "plt.show()"
   ],
   "outputs": [
    {
     "data": {
      "text/plain": [
       "<Figure size 1000x800 with 2 Axes>"
      ],
      "image/png": "[encoded data removed]"
     },
     "metadata": {},
     "output_type": "display_data"
    }
   ],
   "execution_count": 68
  },
  {
   "metadata": {},
   "cell_type": "markdown",
   "source": "Conclusiones Finales"
  },
  {
   "metadata": {
    "ExecuteTime": {
     "end_time": "2025-03-31T05:51:12.690310Z",
     "start_time": "2025-03-31T05:51:12.687596Z"
    }
   },
   "cell_type": "code",
   "source": [
    "print(\"\\nConclusiones generales del análisis:\")\n",
    "print(\"1. Existe una relación entre horas de sueño y niveles de estrés.\")\n",
    "print(\"2. La ansiedad muestra mayor variabilidad que depresión o estrés.\")\n",
    "print(\"3. Personas con alta satisfacción de vida comparten características positivas.\")\n",
    "print(\"4. Hay diferencias en autoestima entre géneros que merecen más investigación.\")\n",
    "print(\"5. La terapia parece asociarse con menores niveles de estrés en algunos casos.\")"
   ],
   "outputs": [
    {
     "name": "stdout",
     "output_type": "stream",
     "text": [
      "\n",
      "Conclusiones generales del análisis:\n",
      "1. Existe una relación entre horas de sueño y niveles de estrés.\n",
      "2. La ansiedad muestra mayor variabilidad que depresión o estrés.\n",
      "3. Personas con alta satisfacción de vida comparten características positivas.\n",
      "4. Hay diferencias en autoestima entre géneros que merecen más investigación.\n",
      "5. La terapia parece asociarse con menores niveles de estrés en algunos casos.\n"
     ]
    }
   ],
   "execution_count": 69
  }
 ],
 "metadata": {
  "kernelspec": {
   "display_name": "py37",
   "language": "python",
   "name": "python3"
  },
  "language_info": {
   "codemirror_mode": {
    "name": "ipython",
    "version": 3
   },
   "file_extension": ".py",
   "mimetype": "text/x-python",
   "name": "python",
   "nbconvert_exporter": "python",
   "pygments_lexer": "ipython3",
   "version": "3.7.12"
  }
 },
 "nbformat": 4,
 "nbformat_minor": 2
}
